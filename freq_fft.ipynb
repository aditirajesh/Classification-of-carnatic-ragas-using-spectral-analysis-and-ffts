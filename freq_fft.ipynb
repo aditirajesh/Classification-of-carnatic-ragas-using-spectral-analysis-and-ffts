{
 "cells": [
  {
   "cell_type": "markdown",
   "metadata": {},
   "source": [
    "<h1>Note Detection using Discrete Fast Fourier Transforms<h1>\n",
    "<h2>This uses fast fourier transforms to analyse the audio file frame by frame to extract the fundamental frequency</h2>"
   ]
  },
  {
   "cell_type": "code",
   "execution_count": null,
   "metadata": {},
   "outputs": [],
   "source": [
    "import matplotlib.pyplot as plt\n",
    "from scipy.fftpack import fft\n",
    "from scipy.io import wavfile\n",
    "import os\n",
    "import numpy as np\n",
    "import tqdm"
   ]
  },
  {
   "cell_type": "code",
   "execution_count": 204,
   "metadata": {},
   "outputs": [],
   "source": [
    "# Configuration\n",
    "\n",
    "def configuration(audio_file,audio_name):\n",
    "    FFT_WINDOW_SECONDS = 0.75 # how many seconds of audio make up an FFT window\n",
    "\n",
    "    # Note range to display\n",
    "    FREQ_MIN = 10\n",
    "    FREQ_MAX = 1000\n",
    "\n",
    "    # Notes to display\n",
    "    TOP_NOTES = 2\n",
    "\n",
    "    # Names of the notes\n",
    "    NOTE_NAMES = [\"C\", \"C#\", \"D\", \"D#\", \"E\", \"F\", \"F#\", \"G\", \"G#\", \"A\", \"A#\", \"B\"]\n",
    "\n",
    "    # Output size. Generally use SCALE for higher res, unless you need a non-standard aspect ratio.\n",
    "    RESOLUTION = (1920, 1080)\n",
    "    SCALE = 2 # 0.5=QHD(960x540), 1=HD(1920x1080), 2=4K(3840x2160)\n",
    "    MAGNITUDE_THRESHOLD = 0.1  # Threshold to ignore low magnitude signals\n",
    "\n",
    "    AUDIO_FILE = audio_file\n",
    "    fs, data = wavfile.read(AUDIO_FILE) # load the data\n",
    "    audio = data.T[0] # this is a two channel soundtrack, get the first track\n",
    "    FFT_WINDOW_SIZE = int(fs * FFT_WINDOW_SECONDS)  # Samples per FFT window\n",
    "    AUDIO_LENGTH = len(audio) / fs  # Total audio length in seconds\n",
    "    FRAME_COUNT = int(AUDIO_LENGTH / FFT_WINDOW_SECONDS)  #Total frames (1 per second)\n",
    "    FRAME_OFFSET = FFT_WINDOW_SIZE \n",
    "\n",
    "    return NOTE_NAMES, FFT_WINDOW_SIZE, fs, FRAME_OFFSET,MAGNITUDE_THRESHOLD,FRAME_COUNT,audio\n",
    "\n",
    "\n"
   ]
  },
  {
   "cell_type": "code",
   "execution_count": 205,
   "metadata": {},
   "outputs": [],
   "source": [
    "def freq_to_number(f): return 69 + 12*np.log2(f/440.0)\n",
    "def number_to_freq(n): return 440 * 2.0**((n-69)/12.0)\n",
    "def note_name(n,NOTE_NAMES): return NOTE_NAMES[n % 12] + str(int(n/12 - 1))\n",
    "\n",
    "# Hanning window function\n",
    "\n",
    "def hanning_window(FFT_WINDOW_SIZE,fs):\n",
    "    window = 0.5 * (1 - np.cos(np.linspace(0, 2*np.pi, FFT_WINDOW_SIZE, False)))\n",
    "\n",
    "    xf = np.fft.rfftfreq(FFT_WINDOW_SIZE, 1/fs)\n",
    "\n",
    "    return window, xf"
   ]
  },
  {
   "cell_type": "code",
   "execution_count": 206,
   "metadata": {},
   "outputs": [],
   "source": [
    "def extract_sample(audio, frame_number,FRAME_OFFSET,FFT_WINDOW_SIZE):\n",
    "  end = frame_number * FRAME_OFFSET\n",
    "  begin = int(end - FFT_WINDOW_SIZE)\n",
    "\n",
    "  if end == 0:\n",
    "    # We have no audio yet, return all zeros (very beginning)\n",
    "    return np.zeros((np.abs(begin)),dtype=float)\n",
    "  elif begin<0:\n",
    "    # We have some audio, padd with zeros\n",
    "    return np.concatenate([np.zeros((np.abs(begin)),dtype=float),audio[0:end]])\n",
    "  else:\n",
    "    # Usually this happens, return the next sample\n",
    "    return audio[begin:end]"
   ]
  },
  {
   "cell_type": "code",
   "execution_count": 207,
   "metadata": {},
   "outputs": [],
   "source": [
    "def find_top_notes(fft,MAGNITUDE_THRESHOLD,xf,NOTE_NAMES):\n",
    "    if np.max(fft.real) < MAGNITUDE_THRESHOLD:\n",
    "        return []\n",
    "\n",
    "    # Sort frequencies by ascending order\n",
    "    lst = [(i, val) for i, val in enumerate(fft.real)]\n",
    "    lst = sorted(lst, key=lambda x: xf[x[0]])  # Sort by frequency\n",
    "\n",
    "    # Identify only the first fundamental frequency\n",
    "    for i, magnitude in lst:\n",
    "        if magnitude >= MAGNITUDE_THRESHOLD:\n",
    "            f = xf[i]  # Frequency of this FFT bin\n",
    "            n = freq_to_number(f)\n",
    "            n0 = int(round(n))\n",
    "            name = note_name(n0,NOTE_NAMES)\n",
    "            return [(f, name, magnitude)]  # Return only the first fundamental frequency\n",
    "\n",
    "    return []  # Return empty if no significant frequency is found\n"
   ]
  },
  {
   "cell_type": "code",
   "execution_count": 208,
   "metadata": {},
   "outputs": [],
   "source": [
    "# Pass 1, find out the maximum amplitude so we can scale.\n",
    "\n",
    "def first_pass(FRAME_COUNT,window,audio,FRAME_OFFSET,FFT_WINDOW_SIZE):\n",
    "  mx = 0\n",
    "  for frame_number in range(FRAME_COUNT):\n",
    "    sample = extract_sample(audio, frame_number,FRAME_OFFSET,FFT_WINDOW_SIZE)\n",
    "\n",
    "    fft = np.fft.rfft(sample * window)\n",
    "    fft = np.abs(fft).real \n",
    "    mx = max(np.max(fft),mx)\n",
    "\n",
    "  #print(f\"Max amplitude: {mx}\")\n",
    "  return mx"
   ]
  },
  {
   "cell_type": "code",
   "execution_count": 209,
   "metadata": {},
   "outputs": [],
   "source": [
    "def print_notes(audio, MAGNITUDE_THRESHOLD, xf, NOTE_NAMES, FRAME_COUNT,mx,window,FRAME_OFFSET, FFT_WINDOW_SIZE,name):\n",
    "\n",
    "    total_notes = []\n",
    "    for frame_no in range(FRAME_COUNT):\n",
    "        #audio, frame_number,FRAME_OFFSET,FFT_WINDOW_SIZE\n",
    "        sample = extract_sample(audio, frame_no,FRAME_OFFSET,FFT_WINDOW_SIZE)\n",
    "        fft = np.fft.rfft(sample * window)\n",
    "        fft = np.abs(fft) / mx  # Normalize with max amplitude\n",
    "\n",
    "        # Get the top notes for this frame\n",
    "        notes = find_top_notes(fft,MAGNITUDE_THRESHOLD,xf,NOTE_NAMES)\n",
    "        if notes != []:\n",
    "            total_notes.append(notes[0][1])\n",
    "\n",
    "        \n",
    "        '''print(f\"Frame {frame_number + 1}/{FRAME_COUNT}:\")\n",
    "        for note in notes:\n",
    "            print(f\"Frequency: {note[0]:.2f} Hz, Note: {note[1]}, Magnitude: {note[2]:.2f}\")\n",
    "        print()'''\n",
    "        \n",
    "\n",
    "    print(name)\n",
    "    for i in range(0,len(total_notes)):\n",
    "        print(total_notes[i],end=' ')"
   ]
  },
  {
   "cell_type": "code",
   "execution_count": 210,
   "metadata": {},
   "outputs": [
    {
     "name": "stdout",
     "output_type": "stream",
     "text": [
      "KANAKANGI 40\n",
      "C4 C4 C#4 C#4 D4 D4 F4 G4 G4 G#4 G#4 A4 A4 C5 C5 C5 C5 A4 A4 G#4 G#4 G4 G4 F4 D4 D4 C#4 C#4 C4 C4 \n",
      "\n",
      "KANAKANGI 80\n",
      "C4 C#4 D4 F4 G4 G#4 A4 C5 C5 A4 G#4 G4 F4 D4 C#4 C4 \n",
      "\n",
      "KANAKANGI 120\n",
      "C4 C#4 D4 G4 A4 C5 G#4 G4 D4 C#4 C4 \n",
      "\n",
      "KANAKANGI 160\n",
      "C4 C#4 G4 G#4 A4 G4 D4 C4 C4 \n",
      "\n",
      "KANAKANGI 200\n",
      "C4 D4 G4 A4 G4 C#4 C4 \n",
      "\n",
      "KANAKANGI 240\n",
      "C4 D4 G#4 G4 C#4 C4 \n",
      "\n"
     ]
    }
   ],
   "source": [
    "audio_files =  [('Recordings/001.Kanakangi/1 kanakAngi_freq40_2.wav','KANAKANGI 40'),('Recordings/001.Kanakangi/5 kanakAngi_freq80_2.wav','KANAKANGI 80'),\n",
    "              ('Recordings/001.Kanakangi/9 kanakAngi_freq120_2.wav','KANAKANGI 120'),('Recordings/001.Kanakangi/13 kanakAngi_freq160_2.wav','KANAKANGI 160'),\n",
    "              ('Recordings/001.Kanakangi/17 kanakAngi_freq200_2.wav','KANAKANGI 200'),('Recordings/001.Kanakangi/21 kanakAngi_freq240_2.wav','KANAKANGI 240')]\n",
    "\n",
    "for audio in audio_files:\n",
    "    file,name = audio \n",
    "    NOTE_NAMES, FFT_WINDOW_SIZE, fs, FRAME_OFFSET,MAGNITUDE_THRESHOLD,FRAME_COUNT,audio = configuration(file,name)\n",
    "    window,xf = hanning_window(FFT_WINDOW_SIZE,fs)\n",
    "    mx = first_pass(FRAME_COUNT,window,audio,FRAME_OFFSET,FFT_WINDOW_SIZE)\n",
    "    print_notes(audio, MAGNITUDE_THRESHOLD, xf, NOTE_NAMES, FRAME_COUNT,mx,window,FRAME_OFFSET, FFT_WINDOW_SIZE,name)\n",
    "    print('\\n')\n",
    "    \n",
    "    \n"
   ]
  }
 ],
 "metadata": {
  "kernelspec": {
   "display_name": "Python 3",
   "language": "python",
   "name": "python3"
  },
  "language_info": {
   "codemirror_mode": {
    "name": "ipython",
    "version": 3
   },
   "file_extension": ".py",
   "mimetype": "text/x-python",
   "name": "python",
   "nbconvert_exporter": "python",
   "pygments_lexer": "ipython3",
   "version": "3.10.4"
  }
 },
 "nbformat": 4,
 "nbformat_minor": 2
}
